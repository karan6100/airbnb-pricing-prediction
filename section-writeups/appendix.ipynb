{
 "cells": [
  {
   "cell_type": "markdown",
   "metadata": {},
   "source": [
    "# 5. Appendix & References\n",
    "<hr>"
   ]
  },
  {
   "cell_type": "markdown",
   "metadata": {},
   "source": [
    "### Data Sources Used:\n",
    "\n",
    "[Listing Data](http://data.beta.nyc/dataset/inside-airbnb-data/resource/9d64399b-36d6-40a9-b0bb-f26ae0d9c53f)\n",
    "\n",
    "[Listings Over Time Data (For Seasonality)](http://data.beta.nyc/dataset/inside-airbnb-data/resource/ce0cbf46-83f9-414a-8a1d-7fd5321d83ca)\n",
    "\n",
    "[Listing Data](http://data.beta.nyc/dataset/inside-airbnb-data/resource/8115833e-8a0e-4af6-8aed-4d96a0ae0b73)"
   ]
  },
  {
   "cell_type": "markdown",
   "metadata": {},
   "source": [
    "### Related Research:\n",
    "\n",
    "[Amato, Nick. “Predicting AirBnB Listing Prices with Scikit-Learn and Apache Spark\"](https://www.mapr.com/blog/predicting-airbnb-listing-prices-scikit-learn-and-apache-spark)\n",
    "\n",
    "[Tang, Sangani. “Neighborhood and Price Prediction for San Francisco Airbnb Listings”](http://cs229.stanford.edu/proj2015/236_report.pdf)\n"
   ]
  }
 ],
 "metadata": {
  "anaconda-cloud": {},
  "kernelspec": {
   "display_name": "Python [Root]",
   "language": "python",
   "name": "Python [Root]"
  },
  "language_info": {
   "codemirror_mode": {
    "name": "ipython",
    "version": 2
   },
   "file_extension": ".py",
   "mimetype": "text/x-python",
   "name": "python",
   "nbconvert_exporter": "python",
   "pygments_lexer": "ipython2",
   "version": "2.7.12"
  }
 },
 "nbformat": 4,
 "nbformat_minor": 0
}
