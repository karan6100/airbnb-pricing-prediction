{
 "cells": [
  {
   "cell_type": "markdown",
   "metadata": {},
   "source": [
    "# Milestone 5: Analysis\n",
    "<hr/>\n",
    "\n",
    "### Overview\n",
    "We are all familiar with AirBnB and the services it provides. With any service, trying to monitor and understand the underlying pricing dynamics of the AirBnB market is very important. AirBnB has recognized this and themselves done a lot of research into suggested pricing from a [supply side standpoint](http://spectrum.ieee.org/computing/software/the-secret-of-airbnbs-pricing-algorithm). However, can we apply these broad ideas to the New York AirBnB market? Are we able to use various details from the listing to accurately predict the correct listing price?\n",
    "\n",
    "### Data Cleaning\n",
    "\n",
    "In the cleaning process we selected 12 predictors and 1 target variable from the 52 columns available. We may consider filtering in some of the predictors that we had not selected previously such as `availability_30`. Perhaps we may have removed some predictors that would have lended significant predictive power if included in the model.\n",
    "\n",
    "### Data Exploration\n",
    "\n",
    "Based on the scatter matrix, when looking at everything together it doesn't seem like there is a distinguishable relationship between our predictors and pricing. We may have to cluster our data by features such as location or size to distinguish whether there is indeed a relationship or not.\n",
    "\n",
    "We see that our target variable is significantly skewed right. We will need to determine suitable methods to deal with this especially when running linear regression methods.\n",
    "\n",
    "### Data Modeling\n",
    "\n",
    "It seems that a Polynomial using Ridge Regression CV takes incredibly long. It does not seem that it will complete in a reasonable time frame. We will need to determine alternative ways to handle this; for example adjusting or taking averages in our data, such that we can fit a Polynomial model. Please refer to data-modeling-baseline Python notebook for more in details about how we fitted the model.\n",
    "\n"
   ]
  },
  {
   "cell_type": "markdown",
   "metadata": {},
   "source": [
    "Other things that we are working on in the pipeline is here https://waffle.io/samuelklam/airbnb-pricing-prediction. Some of the most pressing include: incorporating most popular holidays as an indicator variable(provided as a suggest in the milestone pdf), utilizing the VIF corr test to determine pairwies correlations. Like Jeff Palmucci elaborated in class, it is quite possible that geography-specific price quintiles(it is important to look at buckets of prices because the prices are usually skewed and one-tail heavy) and rating are highly correlated, thus it may be more important to look at interaction terms. Doing the VIF corr test will allow us to try and look at interaction terms of highly-correlated variables in order to satisfy the OLS conditions of linear regressions. Lastly, we would like to combine our text analysis file and be able to incorporate some aspect of ratings into our overall model to get a better understanding of predicting price."
   ]
  },
  {
   "cell_type": "code",
   "execution_count": null,
   "metadata": {
    "collapsed": true
   },
   "outputs": [],
   "source": []
  }
 ],
 "metadata": {
  "anaconda-cloud": {},
  "kernelspec": {
   "display_name": "Python [Root]",
   "language": "python",
   "name": "Python [Root]"
  },
  "language_info": {
   "codemirror_mode": {
    "name": "ipython",
    "version": 2
   },
   "file_extension": ".py",
   "mimetype": "text/x-python",
   "name": "python",
   "nbconvert_exporter": "python",
   "pygments_lexer": "ipython2",
   "version": "2.7.12"
  }
 },
 "nbformat": 4,
 "nbformat_minor": 0
}
