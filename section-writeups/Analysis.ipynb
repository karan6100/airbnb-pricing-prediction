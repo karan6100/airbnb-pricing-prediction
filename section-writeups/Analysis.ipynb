{
 "cells": [
  {
   "cell_type": "markdown",
   "metadata": {},
   "source": [
    "# Milestone 5: Analysis\n",
    "<hr/>\n",
    "\n",
    "### Overview\n",
    "We are all familiar with AirBnB and the services it provides. With any service, trying to monitor and understand the underlying pricing dynamics of the AirBnB market is very important. AirBnB has recognized this and themselves done a lot of research into suggested pricing from a [supply side standpoint](http://spectrum.ieee.org/computing/software/the-secret-of-airbnbs-pricing-algorithm). However, can we apply these broad ideas to the New York AirBnB market? Are we able to use various details from the listing to accurately predict the correct listing price?\n",
    "\n",
    "### Data Cleaning\n",
    "\n",
    "In the cleaning process we selected 12 predictors and 1 target variable from the 52 columns available. We may consider filtering in some of the predictors that we had not selected previously such as `availability_30`. Perhaps we may have removed some predictors that would have lended significant predictive power if included in the model.\n",
    "\n",
    "### Data Exploration\n",
    "\n",
    "Based on the scatter matrix, when looking at everything together it doesn't seem like there is a distinguishable relationship between our predictors and pricing. We may have to cluster our data by features such as location or size to distinguish whether there is indeed a relationship or not.\n",
    "\n",
    "We see that our target variable is significantly skewed right. We will need to determine suitable methods to deal with this especially when running linear regression methods.\n",
    "\n",
    "### Data Modeling\n",
    "\n",
    "It seems that a Polynomial using Ridge Regression CV takes incredibly long. It does not seem that it will complete in a reasonable time frame. We will need to determine alternative ways to handle this; for example adjusting or taking averages in our data, such that we can fit a Polynomial model. Please refer to data-modeling-baseline Python notebook for more in details about how we fitted the model.\n",
    "\n",
    "### Future Incorporations\n",
    "\n",
    "We see the baseline model using Linear Regression, including models Ridge, Lasso and Random Forest Regression, perform poorly. This is a strong indicator that we will need to consider different ways to increase our test accuracy. Somethings to consider would be to change this from a regression problem into a classification problem -- predicting the price range a price will fall in. We can then incorporate different models such as Multinomial Logistic Regression, LDA, QDA, etc.. However, we may choose to stick with regression currently by exploring improvements to be made below.\n",
    "\n",
    "Additional improvements will be:\n",
    "1. cluster listings based on similarities such as size (number of individuals a listing accommodates) or zipcode (location) to create a multi-level model to improve accuracy\n",
    "2. explore other regression methods namely ensemble methods such as GradientBoostingRegressor\n",
    "3. consider predicting a pricing range interval instead of a specific price (change to classification problem)\n",
    "4. extracting other features that may introduce predictive power\n",
    "5. instead of looking at RSS consider looking at the median absolute error\n",
    "6. Incorporate seasonality data: We have been working hard on getting this cleaned, but the presence of commas within the csv prove difficult. Also, drawing from inspiration from the in class presentation today from Jeff Palmucci, looking at autocorrelation from the seasonality data may be a good way to draw insights in that regard. I've also attached the seasonality python notebook we have been working on to exhibit progress in that regard for the milestone."
   ]
  },
  {
   "cell_type": "markdown",
   "metadata": {},
   "source": [
    "Other things that we are working on in the pipeline is here https://waffle.io/samuelklam/airbnb-pricing-prediction. Some of the most pressing include: incorporating most popular holidays as an indicator variable(provided as a suggest in the milestone pdf), utilizing the VIF corr test to determine pairwies correlations. Like Jeff Palmucci elaborated in class, it is quite possible that geography-specific price quintiles(it is important to look at buckets of prices because the prices are usually skewed and one-tail heavy) and rating are highly correlated, thus it may be more important to look at interaction terms. Doing the VIF corr test will allow us to try and look at interaction terms of highly-correlated variables in order to satisfy the OLS conditions of linear regressions. Lastly, we would like to combine our text analysis file and be able to incorporate some aspect of ratings into our overall model to get a better understanding of predicting price."
   ]
  },
  {
   "cell_type": "code",
   "execution_count": null,
   "metadata": {
    "collapsed": true
   },
   "outputs": [],
   "source": []
  }
 ],
 "metadata": {
  "anaconda-cloud": {},
  "kernelspec": {
   "display_name": "Python [Root]",
   "language": "python",
   "name": "Python [Root]"
  },
  "language_info": {
   "codemirror_mode": {
    "name": "ipython",
    "version": 2
   },
   "file_extension": ".py",
   "mimetype": "text/x-python",
   "name": "python",
   "nbconvert_exporter": "python",
   "pygments_lexer": "ipython2",
   "version": "2.7.12"
  }
 },
 "nbformat": 4,
 "nbformat_minor": 0
}
