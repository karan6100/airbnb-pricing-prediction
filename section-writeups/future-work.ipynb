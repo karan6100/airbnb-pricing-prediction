{
 "cells": [
  {
   "cell_type": "markdown",
   "metadata": {},
   "source": [
    "# 4. Conclusion & Future Work\n",
    "<hr/>\n",
    "\n",
    "### Conclusion\n",
    "\n",
    "\n",
    "Using Ridge Regression we were able to fit a model that obtained a Median Absolute Error of \\$21.43 for all listing data and $19.43 on single bedroom listings, beating that of a previous study that assessed single bedroom listing data. For a practical predictor to be used in practice, future work will need to be done to further explore and build more suitable models. Predicting a significantly skewed right response variable, price, yields a set of challenges that need to be addressed. Rather than predicting a specific price, future work could consider predicting a bucket price range that a listing would fall into. By turning this into a classification problem, accuracy may very well increase and this model would be more useful from a practical standpoint. Additionally, by predicting prices in bucket range, a host could have a greater degree of autonomy and perhaps confidence in selecting the price that they deemed fit. Finally, further analysis on the trends for seasonality could yield an improved model. There are certainly promising patterns in seasons and day of the week that play a role in determining the optimal Airbnb listing price.\n",
    "\n",
    "\n",
    "### Future Work\n",
    "\n",
    "Future work should consider the following:\n",
    "- Approaching price prediction as a classification problem and predicting the range a price will fall in. Different models such as Multinomial Logistic Regression, LDA, and QDA can be incorporated. Overall, previous literature has pointed out to the challenges of using regression to predict price (especially in highly skewed settings). Classification may yield a more accurate model.\n",
    "- Further explore clustering data, but incorporate it into a multi-level model to improve accuracy. This can be potentially improved by changing the neighborhood clusters to a broader scale.\n",
    "- Explore further with various ensemble methods such as GradientBoostingRegressor and conduct a more exhaustive parameter tuning\n",
    "- Explore further with a polynomial model that includes interactive terms as well\n",
    "- Extracting other features that may introduce predictive power\n",
    "- Incorporating and assessing not just listing information, but the prices and times that a listing was booked at. This would allow for a much deeper analysis on determining the optimal price for maximum booking rate success\n",
    "- Analyzing further the seasonality data. This includes both looking at other segmentations for seasonality (monthly, yearly, and holiday) as well as alternative time series/seasonality models such as SARIMA models for longer time series. With more data, we can fit the model to the existing trends, and project forward future prices. Another option is to keep looking at things from a daily time scale [as such](http://ro.uow.edu.au/cgi/viewcontent.cgi?article=1011&context=asearc)\n",
    "- Developing a web app / browser extensions that Airbnb hosts can use to determine suitable market level prices and for Airbnb guests to determine if a price listing is overly expensive or under market costs"
   ]
  }
 ],
 "metadata": {
  "anaconda-cloud": {},
  "kernelspec": {
   "display_name": "Python [Root]",
   "language": "python",
   "name": "Python [Root]"
  },
  "language_info": {
   "codemirror_mode": {
    "name": "ipython",
    "version": 2
   },
   "file_extension": ".py",
   "mimetype": "text/x-python",
   "name": "python",
   "nbconvert_exporter": "python",
   "pygments_lexer": "ipython2",
   "version": "2.7.12"
  }
 },
 "nbformat": 4,
 "nbformat_minor": 0
}
