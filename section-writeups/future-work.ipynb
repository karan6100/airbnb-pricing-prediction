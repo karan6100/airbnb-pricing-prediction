{
 "cells": [
  {
   "cell_type": "markdown",
   "metadata": {},
   "source": [
    "# Future Work\n",
    "<hr/>\n"
   ]
  },
  {
   "cell_type": "markdown",
   "metadata": {
    "collapsed": true
   },
   "source": [
    "### Future Incorporations\n",
    "\n",
    "We see the baseline model using Linear Regression, including models Ridge, Lasso and Random Forest Regression, perform poorly. This is a strong indicator that we will need to consider different ways to increase our test accuracy. Somethings to consider would be to change this from a regression problem into a classification problem -- predicting the price range a price will fall in. We can then incorporate different models such as Multinomial Logistic Regression, LDA, QDA, etc.. However, we may choose to stick with regression currently by exploring improvements to be made below.\n",
    "\n",
    "Additional improvements will be:\n",
    "1. cluster listings based on similarities such as size (number of individuals a listing accommodates) or zipcode (location) to create a multi-level model to improve accuracy\n",
    "2. explore other regression methods namely ensemble methods such as GradientBoostingRegressor\n",
    "3. consider predicting a pricing range interval instead of a specific price (change to classification problem)\n",
    "4. extracting other features that may introduce predictive power\n",
    "5. instead of looking at RSS consider looking at the median absolute error\n",
    "6. Incorporate seasonality data: We have been working hard on getting this cleaned, but the presence of commas within the csv prove difficult. Also, drawing from inspiration from the in class presentation today from Jeff Palmucci, looking at autocorrelation from the seasonality data may be a good way to draw insights in that regard. I've also attached the seasonality python notebook we have been working on to exhibit progress in that regard for the milestone."
   ]
  },
  {
   "cell_type": "code",
   "execution_count": null,
   "metadata": {
    "collapsed": true
   },
   "outputs": [],
   "source": []
  }
 ],
 "metadata": {
  "anaconda-cloud": {},
  "kernelspec": {
   "display_name": "Python [Root]",
   "language": "python",
   "name": "Python [Root]"
  },
  "language_info": {
   "codemirror_mode": {
    "name": "ipython",
    "version": 2
   },
   "file_extension": ".py",
   "mimetype": "text/x-python",
   "name": "python",
   "nbconvert_exporter": "python",
   "pygments_lexer": "ipython2",
   "version": "2.7.12"
  }
 },
 "nbformat": 4,
 "nbformat_minor": 0
}
