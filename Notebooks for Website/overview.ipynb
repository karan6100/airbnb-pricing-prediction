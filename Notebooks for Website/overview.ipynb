{
 "cells": [
  {
   "cell_type": "markdown",
   "metadata": {},
   "source": [
    "# Overview\n",
    "<hr/>\n"
   ]
  },
  {
   "cell_type": "markdown",
   "metadata": {},
   "source": [
    "We are all familiar with AirBnB and the services it provides. With any service, trying to monitor and understand the underlying pricing dynamics of the AirBnB market is very important. AirBnB has recognized this and themselves done a lot of research into suggested pricing from a [supply side standpoint](http://spectrum.ieee.org/computing/software/the-secret-of-airbnbs-pricing-algorithm). However, can we apply these broad ideas to the New York AirBnB market? Are we able to use various details from the listing to accurately predict the correct listing price?"
   ]
  },
  {
   "cell_type": "markdown",
   "metadata": {},
   "source": [
    "### Objectives"
   ]
  },
  {
   "cell_type": "markdown",
   "metadata": {},
   "source": [
    "### Data"
   ]
  },
  {
   "cell_type": "markdown",
   "metadata": {},
   "source": [
    "### Important Factors"
   ]
  },
  {
   "cell_type": "markdown",
   "metadata": {
    "collapsed": true
   },
   "source": [
    "### Visualizations by Zipcode\n",
    "<hr>\n",
    "![Zipcode Heat Map](../img/zipcode-heat-map.jpg)\n",
    "\n",
    "![Zipcode Heat Map Zoomed In](../img/zipcode-heat-map-zoom.jpg)\n",
    "\n",
    "Write in analysis here...."
   ]
  },
  {
   "cell_type": "markdown",
   "metadata": {
    "collapsed": true
   },
   "source": [
    "### Conclusion"
   ]
  },
  {
   "cell_type": "code",
   "execution_count": null,
   "metadata": {
    "collapsed": true
   },
   "outputs": [],
   "source": []
  }
 ],
 "metadata": {
  "anaconda-cloud": {},
  "kernelspec": {
   "display_name": "Python [Root]",
   "language": "python",
   "name": "Python [Root]"
  },
  "language_info": {
   "codemirror_mode": {
    "name": "ipython",
    "version": 2
   },
   "file_extension": ".py",
   "mimetype": "text/x-python",
   "name": "python",
   "nbconvert_exporter": "python",
   "pygments_lexer": "ipython2",
   "version": "2.7.12"
  }
 },
 "nbformat": 4,
 "nbformat_minor": 0
}
