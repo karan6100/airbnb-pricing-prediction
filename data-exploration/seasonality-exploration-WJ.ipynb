{
 "cells": [
  {
   "cell_type": "markdown",
   "metadata": {},
   "source": [
    "# Data Exploration Seasonality"
   ]
  },
  {
   "cell_type": "markdown",
   "metadata": {},
   "source": [
    "Alex Peed, Kunal Shah, Willie Jin, Sam Lam"
   ]
  },
  {
   "cell_type": "code",
   "execution_count": 1,
   "metadata": {
    "collapsed": false
   },
   "outputs": [],
   "source": [
    "import pandas as pd\n",
    "import matplotlib\n",
    "import matplotlib.pyplot as plt\n",
    "import matplotlib.cm as cmx\n",
    "import matplotlib.colors as colors\n",
    "import numpy as np\n",
    "%matplotlib inline"
   ]
  },
  {
   "cell_type": "code",
   "execution_count": 42,
   "metadata": {
    "collapsed": false
   },
   "outputs": [],
   "source": [
    "data = pd.read_csv('../datasets/calendar_clean.csv')"
   ]
  },
  {
   "cell_type": "code",
   "execution_count": 51,
   "metadata": {
    "collapsed": false
   },
   "outputs": [],
   "source": [
    "data['new price']=data['new price'].str.lstrip('$').astype(float)"
   ]
  },
  {
   "cell_type": "code",
   "execution_count": 52,
   "metadata": {
    "collapsed": false
   },
   "outputs": [
    {
     "data": {
      "text/html": [
       "<div>\n",
       "<table border=\"1\" class=\"dataframe\">\n",
       "  <thead>\n",
       "    <tr style=\"text-align: right;\">\n",
       "      <th></th>\n",
       "      <th>listing_id</th>\n",
       "      <th>date</th>\n",
       "      <th>available</th>\n",
       "      <th>new price</th>\n",
       "    </tr>\n",
       "  </thead>\n",
       "  <tbody>\n",
       "    <tr>\n",
       "      <th>0</th>\n",
       "      <td>3604481.0</td>\n",
       "      <td>1/1/2015</td>\n",
       "      <td>t</td>\n",
       "      <td>600.0</td>\n",
       "    </tr>\n",
       "    <tr>\n",
       "      <th>1</th>\n",
       "      <td>3604481.0</td>\n",
       "      <td>1/2/2015</td>\n",
       "      <td>t</td>\n",
       "      <td>600.0</td>\n",
       "    </tr>\n",
       "    <tr>\n",
       "      <th>2</th>\n",
       "      <td>3604481.0</td>\n",
       "      <td>1/3/2015</td>\n",
       "      <td>t</td>\n",
       "      <td>600.0</td>\n",
       "    </tr>\n",
       "    <tr>\n",
       "      <th>3</th>\n",
       "      <td>3604481.0</td>\n",
       "      <td>1/4/2015</td>\n",
       "      <td>t</td>\n",
       "      <td>600.0</td>\n",
       "    </tr>\n",
       "    <tr>\n",
       "      <th>4</th>\n",
       "      <td>3604481.0</td>\n",
       "      <td>1/5/2015</td>\n",
       "      <td>t</td>\n",
       "      <td>600.0</td>\n",
       "    </tr>\n",
       "  </tbody>\n",
       "</table>\n",
       "</div>"
      ],
      "text/plain": [
       "   listing_id      date available  new price\n",
       "0   3604481.0  1/1/2015         t      600.0\n",
       "1   3604481.0  1/2/2015         t      600.0\n",
       "2   3604481.0  1/3/2015         t      600.0\n",
       "3   3604481.0  1/4/2015         t      600.0\n",
       "4   3604481.0  1/5/2015         t      600.0"
      ]
     },
     "execution_count": 52,
     "metadata": {},
     "output_type": "execute_result"
    }
   ],
   "source": [
    "data.head(5)"
   ]
  },
  {
   "cell_type": "code",
   "execution_count": 36,
   "metadata": {
    "collapsed": false
   },
   "outputs": [
    {
     "data": {
      "text/plain": [
       "array(['1/1/2015', '1/2/2015', '1/3/2015', '1/4/2015', '1/5/2015',\n",
       "       '1/6/2015', '1/7/2015', '1/8/2015', '1/9/2015', '1/10/2015',\n",
       "       '1/11/2015', '1/12/2015', '1/13/2015', '1/14/2015', '1/15/2015',\n",
       "       '1/16/2015', '1/17/2015', '1/18/2015', '1/19/2015', '1/20/2015',\n",
       "       '1/21/2015', '1/22/2015', '1/23/2015', '1/24/2015', '1/25/2015',\n",
       "       '1/26/2015', '1/27/2015', '1/28/2015', '1/29/2015', '1/30/2015',\n",
       "       '1/31/2015', '2/1/2015', '2/2/2015', '2/3/2015', '2/4/2015',\n",
       "       '2/5/2015', '2/6/2015', '2/7/2015', '2/8/2015', '2/9/2015',\n",
       "       '2/10/2015', '2/11/2015', '2/12/2015', '2/13/2015', '2/14/2015',\n",
       "       '2/15/2015', '2/16/2015', '2/17/2015', '2/18/2015', '2/19/2015',\n",
       "       '2/20/2015', '2/21/2015', '2/22/2015', '2/23/2015', '2/24/2015',\n",
       "       '2/25/2015', '2/26/2015', '2/27/2015', '2/28/2015', '3/1/2015',\n",
       "       '3/2/2015', '3/3/2015', '3/4/2015', '3/5/2015', '3/6/2015',\n",
       "       '3/7/2015', '3/8/2015', '3/9/2015', '3/10/2015', '3/11/2015',\n",
       "       '3/12/2015', '3/13/2015', '3/14/2015', '3/15/2015', '3/16/2015',\n",
       "       '3/17/2015', '3/18/2015', '3/19/2015', '3/20/2015', '3/21/2015',\n",
       "       '3/22/2015', '3/23/2015', '3/24/2015', '3/25/2015', '3/26/2015',\n",
       "       '3/27/2015', '3/28/2015', '3/29/2015', '3/30/2015', '3/31/2015',\n",
       "       '4/1/2015', '4/2/2015', '4/3/2015', '4/4/2015', '4/5/2015',\n",
       "       '4/6/2015', '4/7/2015', '4/8/2015', '4/9/2015', '4/10/2015',\n",
       "       '4/11/2015', '4/12/2015', '4/13/2015', '4/14/2015', '4/15/2015',\n",
       "       '4/16/2015', '4/17/2015', '4/18/2015', '4/19/2015', '4/20/2015',\n",
       "       '4/21/2015', '4/22/2015', '4/23/2015', '4/24/2015', '4/25/2015',\n",
       "       '4/26/2015', '4/27/2015', '4/28/2015', '4/29/2015', '4/30/2015',\n",
       "       '5/1/2015', '5/2/2015', '5/3/2015', '5/4/2015', '5/5/2015',\n",
       "       '5/6/2015', '5/7/2015', '5/8/2015', '5/9/2015', '5/10/2015',\n",
       "       '5/11/2015', '5/12/2015', '5/13/2015', '5/14/2015', '5/15/2015',\n",
       "       '5/16/2015', '5/17/2015', '5/18/2015', '5/19/2015', '5/20/2015',\n",
       "       '5/21/2015', '5/22/2015', '5/23/2015', '5/24/2015', '5/25/2015',\n",
       "       '5/26/2015', '5/27/2015', '5/28/2015', '5/29/2015', '5/30/2015',\n",
       "       '5/31/2015', '6/1/2015', '6/2/2015', '6/3/2015', '6/4/2015',\n",
       "       '6/5/2015', '6/6/2015', '6/7/2015', '6/8/2015', '6/9/2015',\n",
       "       '6/10/2015', '6/11/2015', '6/12/2015', '6/13/2015', '6/14/2015',\n",
       "       '6/15/2015', '6/16/2015', '6/17/2015', '6/18/2015', '6/19/2015',\n",
       "       '6/20/2015', '6/21/2015', '6/22/2015', '6/23/2015', '6/24/2015',\n",
       "       '6/25/2015', '6/26/2015', '6/27/2015', '6/28/2015', '6/29/2015',\n",
       "       '6/30/2015', '7/1/2015', '7/2/2015', '7/3/2015', '7/4/2015',\n",
       "       '7/5/2015', '7/6/2015', '7/7/2015', '7/8/2015', '7/9/2015',\n",
       "       '7/10/2015', '7/11/2015', '7/12/2015', '7/13/2015', '7/14/2015',\n",
       "       '7/15/2015', '7/16/2015', '7/17/2015', '7/18/2015', '7/19/2015',\n",
       "       '7/20/2015', '7/21/2015', '7/22/2015', '7/23/2015', '7/24/2015',\n",
       "       '7/25/2015', '7/26/2015', '7/27/2015', '7/28/2015', '7/29/2015',\n",
       "       '7/30/2015', '7/31/2015', '8/1/2015', '8/2/2015', '8/3/2015',\n",
       "       '8/4/2015', '8/5/2015', '8/6/2015', '8/7/2015', '8/8/2015',\n",
       "       '8/9/2015', '8/10/2015', '8/11/2015', '8/12/2015', '8/13/2015',\n",
       "       '8/14/2015', '8/15/2015', '8/16/2015', '8/17/2015', '8/18/2015',\n",
       "       '8/19/2015', '8/20/2015', '8/21/2015', '8/22/2015', '8/23/2015',\n",
       "       '8/24/2015', '8/25/2015', '8/26/2015', '8/27/2015', '8/28/2015',\n",
       "       '8/29/2015', '8/30/2015', '8/31/2015', '9/1/2015', '9/2/2015',\n",
       "       '9/3/2015', '9/4/2015', '9/5/2015', '9/6/2015', '9/7/2015',\n",
       "       '9/8/2015', '9/9/2015', '9/10/2015', '9/11/2015', '9/12/2015',\n",
       "       '9/13/2015', '9/14/2015', '9/15/2015', '9/16/2015', '9/17/2015',\n",
       "       '9/18/2015', '9/19/2015', '9/20/2015', '9/21/2015', '9/22/2015',\n",
       "       '9/23/2015', '9/24/2015', '9/25/2015', '9/26/2015', '9/27/2015',\n",
       "       '9/28/2015', '9/29/2015', '9/30/2015', '10/1/2015', '10/2/2015',\n",
       "       '10/3/2015', '10/4/2015', '10/5/2015', '10/6/2015', '10/7/2015',\n",
       "       '10/8/2015', '10/9/2015', '10/10/2015', '10/11/2015', '10/12/2015',\n",
       "       '10/13/2015', '10/14/2015', '10/15/2015', '10/16/2015',\n",
       "       '10/17/2015', '10/18/2015', '10/19/2015', '10/20/2015',\n",
       "       '10/21/2015', '10/22/2015', '10/23/2015', '10/24/2015',\n",
       "       '10/25/2015', '10/26/2015', '10/27/2015', '10/28/2015',\n",
       "       '10/29/2015', '10/30/2015', '10/31/2015', '11/1/2015', '11/2/2015',\n",
       "       '11/3/2015', '11/4/2015', '11/5/2015', '11/6/2015', '11/7/2015',\n",
       "       '11/8/2015', '11/9/2015', '11/10/2015', '11/11/2015', '11/12/2015',\n",
       "       '11/13/2015', '11/14/2015', '11/15/2015', '11/16/2015',\n",
       "       '11/17/2015', '11/18/2015', '11/19/2015', '11/20/2015',\n",
       "       '11/21/2015', '11/22/2015', '11/23/2015', '11/24/2015',\n",
       "       '11/25/2015', '11/26/2015', '11/27/2015', '11/28/2015',\n",
       "       '11/29/2015', '11/30/2015', '12/1/2015', '12/2/2015', '12/3/2015',\n",
       "       '12/4/2015', '12/5/2015', '12/6/2015', '12/7/2015', '12/8/2015',\n",
       "       '12/9/2015', '12/10/2015', '12/11/2015', '12/12/2015', '12/13/2015',\n",
       "       '12/14/2015', '12/15/2015', '12/16/2015', '12/17/2015',\n",
       "       '12/18/2015', '12/19/2015', '12/20/2015', '12/21/2015',\n",
       "       '12/22/2015', '12/23/2015', '12/24/2015', '12/25/2015',\n",
       "       '12/26/2015', '12/27/2015', '12/28/2015', '12/29/2015',\n",
       "       '12/30/2015', '12/31/2015', '1/1/2016'], dtype=object)"
      ]
     },
     "execution_count": 36,
     "metadata": {},
     "output_type": "execute_result"
    }
   ],
   "source": [
    "data['date'].unique()"
   ]
  },
  {
   "cell_type": "code",
   "execution_count": 53,
   "metadata": {
    "collapsed": false
   },
   "outputs": [
    {
     "data": {
      "text/plain": [
       "197.74233128834356"
      ]
     },
     "execution_count": 53,
     "metadata": {},
     "output_type": "execute_result"
    }
   ],
   "source": [
    "data[data['date'] == '1/1/2015']['new price'].mean()"
   ]
  },
  {
   "cell_type": "code",
   "execution_count": 57,
   "metadata": {
    "collapsed": false
   },
   "outputs": [],
   "source": [
    "date=[]\n",
    "avg_price=[]"
   ]
  },
  {
   "cell_type": "code",
   "execution_count": 58,
   "metadata": {
    "collapsed": false
   },
   "outputs": [],
   "source": [
    "for i in data['date'].unique():\n",
    "    date.append(i)\n",
    "    avg_price.append(data[data['date'] == i]['new price'].mean())"
   ]
  },
  {
   "cell_type": "code",
   "execution_count": 65,
   "metadata": {
    "collapsed": false,
    "scrolled": true
   },
   "outputs": [
    {
     "data": {
      "text/plain": [
       "[<matplotlib.lines.Line2D at 0x1d5ae0f0>]"
      ]
     },
     "execution_count": 65,
     "metadata": {},
     "output_type": "execute_result"
    },
    {
     "data": {
      "image/png": "[encoded data removed]",
      "text/plain": [
       "<matplotlib.figure.Figure at 0x1d421390>"
      ]
     },
     "metadata": {},
     "output_type": "display_data"
    }
   ],
   "source": [
    "plt.plot(range(len(avg_price)), avg_price)"
   ]
  },
  {
   "cell_type": "code",
   "execution_count": 86,
   "metadata": {
    "collapsed": false
   },
   "outputs": [],
   "source": [
    "data_fill.to_csv(\"../datasets/calendar_clean\",index=False)"
   ]
  }
 ],
 "metadata": {
  "anaconda-cloud": {},
  "kernelspec": {
   "display_name": "Python [Root]",
   "language": "python",
   "name": "Python [Root]"
  },
  "language_info": {
   "codemirror_mode": {
    "name": "ipython",
    "version": 2
   },
   "file_extension": ".py",
   "mimetype": "text/x-python",
   "name": "python",
   "nbconvert_exporter": "python",
   "pygments_lexer": "ipython2",
   "version": "2.7.12"
  }
 },
 "nbformat": 4,
 "nbformat_minor": 0
}
