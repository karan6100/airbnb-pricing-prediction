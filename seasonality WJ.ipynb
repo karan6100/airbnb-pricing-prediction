{
 "cells": [
  {
   "cell_type": "markdown",
   "metadata": {},
   "source": [
    "# Milestone 3"
   ]
  },
  {
   "cell_type": "markdown",
   "metadata": {},
   "source": [
    "Alex Peed, Kunal Shah, Willie Jin, Sam Lam"
   ]
  },
  {
   "cell_type": "code",
   "execution_count": 1,
   "metadata": {
    "collapsed": true
   },
   "outputs": [],
   "source": [
    "import pandas as pd\n",
    "import matplotlib\n",
    "import matplotlib.pyplot as plt\n",
    "import matplotlib.cm as cmx\n",
    "import matplotlib.colors as colors\n",
    "%matplotlib inline"
   ]
  },
  {
   "cell_type": "code",
   "execution_count": 5,
   "metadata": {
    "collapsed": false
   },
   "outputs": [],
   "source": [
    "data = pd.read_csv('/Users/AlexPeed/airbnb-pricing-prediction/datasets/listings_clean.csv')"
   ]
  },
  {
   "cell_type": "code",
   "execution_count": 6,
   "metadata": {
    "collapsed": false
   },
   "outputs": [
    {
     "data": {
      "text/plain": [
       "(24053, 233)"
      ]
     },
     "execution_count": 6,
     "metadata": {},
     "output_type": "execute_result"
    }
   ],
   "source": [
    "data.shape"
   ]
  },
  {
   "cell_type": "code",
   "execution_count": 8,
   "metadata": {
    "collapsed": false
   },
   "outputs": [],
   "source": [
    "# data['price'] = (data['price'].str.replace(r'[^-+\\d.]', '').astype(float))\n",
    "# data['weekly_price'] = (data['weekly_price'].str.replace(r'[^-+\\d.]', '').astype(float))\n",
    "# data['monthly_price'] = (data['monthly_price'].str.replace(r'[^-+\\d.]', '').astype(float))\n"
   ]
  },
  {
   "cell_type": "code",
   "execution_count": 9,
   "metadata": {
    "collapsed": false
   },
   "outputs": [],
   "source": [
    "col_names = list(data.columns.values)"
   ]
  },
  {
   "cell_type": "code",
   "execution_count": 10,
   "metadata": {
    "collapsed": true
   },
   "outputs": [],
   "source": [
    "nulls = []\n",
    "for i in col_names:\n",
    "    nulls.append(data[i].isnull().values.any())"
   ]
  },
  {
   "cell_type": "code",
   "execution_count": 11,
   "metadata": {
    "collapsed": false
   },
   "outputs": [],
   "source": [
    "col_nulls = pd.DataFrame({'col_name': col_names, 'null': nulls})"
   ]
  },
  {
   "cell_type": "code",
   "execution_count": 12,
   "metadata": {
    "collapsed": false
   },
   "outputs": [],
   "source": [
    "with_nulls = col_nulls[col_nulls.null == True]"
   ]
  },
  {
   "cell_type": "code",
   "execution_count": null,
   "metadata": {
    "collapsed": false
   },
   "outputs": [],
   "source": []
  },
  {
   "cell_type": "code",
   "execution_count": 13,
   "metadata": {
    "collapsed": false
   },
   "outputs": [
    {
     "data": {
      "text/plain": [
       "0"
      ]
     },
     "execution_count": 13,
     "metadata": {},
     "output_type": "execute_result"
    }
   ],
   "source": [
    "data[\"price\"].isnull().sum().sum()"
   ]
  },
  {
   "cell_type": "code",
   "execution_count": 15,
   "metadata": {
    "collapsed": false
   },
   "outputs": [],
   "source": [
    "# footprice = pd.DataFrame({'price': data['price'], 'square_feet': data['square_feet']})\n",
    "# footprice = footprice.dropna()\n",
    "# footprice.head()"
   ]
  },
  {
   "cell_type": "code",
   "execution_count": 16,
   "metadata": {
    "collapsed": false
   },
   "outputs": [],
   "source": [
    "# footprice = footprice[(footprice.price < 1001) & (footprice.square_feet < 4000)]\n",
    "# footprice.head()"
   ]
  },
  {
   "cell_type": "code",
   "execution_count": 18,
   "metadata": {
    "collapsed": false
   },
   "outputs": [],
   "source": [
    "# fig, ax = plt.subplots(1, 1, figsize=(10, 6))\n",
    "# ax.scatter(footprice['square_feet'] ,footprice['price'])\n",
    "# ax.set_xlabel('Square Feet')\n",
    "# ax.set_ylabel('Price')\n",
    "# ax.set_title('Square Feet to Price')\n"
   ]
  },
  {
   "cell_type": "code",
   "execution_count": 19,
   "metadata": {
    "collapsed": false
   },
   "outputs": [],
   "source": [
    "# baths = data.bathrooms.dropna()\n",
    "\n",
    "# plt.hist(baths, 16)\n",
    "# plt.title(\"Baths Histogram\")\n",
    "# plt.xlabel(\"Number of Baths\")\n",
    "# plt.ylabel(\"Frequency\")"
   ]
  },
  {
   "cell_type": "code",
   "execution_count": 20,
   "metadata": {
    "collapsed": false
   },
   "outputs": [],
   "source": [
    "# beds = data.beds.dropna()\n",
    "\n",
    "# plt.hist(beds, 16)\n",
    "# plt.title(\"Beds Histogram\")\n",
    "# plt.xlabel(\"Number of Beds\")\n",
    "# plt.ylabel(\"Frequency\")"
   ]
  },
  {
   "cell_type": "code",
   "execution_count": 21,
   "metadata": {
    "collapsed": false
   },
   "outputs": [],
   "source": [
    "# accommodates = data.accommodates.dropna()\n",
    "\n",
    "# plt.hist(accommodates)\n",
    "# plt.title(\"Number Accomodated Histogram\")\n",
    "# plt.xlabel(\"Number Accomodated\")\n",
    "# plt.ylabel(\"Frequency\")"
   ]
  },
  {
   "cell_type": "code",
   "execution_count": 22,
   "metadata": {
    "collapsed": false
   },
   "outputs": [],
   "source": [
    "# accprice = pd.DataFrame({'price': data['price'], 'accommodates': data['accommodates']})\n",
    "# accprice = accprice.dropna()\n",
    "\n",
    "# fig, ax = plt.subplots(1, 1, figsize=(10, 6))\n",
    "# ax.scatter(accprice['accommodates'] ,accprice['price'])\n",
    "# ax.set_xlabel('Number Accomodated')\n",
    "# ax.set_ylabel('Price')\n",
    "# ax.set_title('Number Accomodated to Price')"
   ]
  },
  {
   "cell_type": "code",
   "execution_count": 24,
   "metadata": {
    "collapsed": false
   },
   "outputs": [],
   "source": [
    "season = pd.read_csv('/Users/AlexPeed/airbnb-pricing-prediction/datasets/calendar.csv')"
   ]
  },
  {
   "cell_type": "code",
   "execution_count": 28,
   "metadata": {
    "collapsed": false
   },
   "outputs": [
    {
     "data": {
      "text/plain": [
       "274923"
      ]
     },
     "execution_count": 28,
     "metadata": {},
     "output_type": "execute_result"
    }
   ],
   "source": [
    "season['price'].isnull().sum().sum()"
   ]
  },
  {
   "cell_type": "code",
   "execution_count": 32,
   "metadata": {
    "collapsed": false
   },
   "outputs": [
    {
     "data": {
      "text/plain": [
       "1048575"
      ]
     },
     "execution_count": 32,
     "metadata": {},
     "output_type": "execute_result"
    }
   ],
   "source": [
    "len(season.index)"
   ]
  },
  {
   "cell_type": "code",
   "execution_count": 36,
   "metadata": {
    "collapsed": false
   },
   "outputs": [],
   "source": [
    "listing = season['listing_id'].unique()"
   ]
  },
  {
   "cell_type": "code",
   "execution_count": 37,
   "metadata": {
    "collapsed": false
   },
   "outputs": [
    {
     "data": {
      "text/html": [
       "<div>\n",
       "<table border=\"1\" class=\"dataframe\">\n",
       "  <thead>\n",
       "    <tr style=\"text-align: right;\">\n",
       "      <th></th>\n",
       "      <th>listing_id</th>\n",
       "      <th>date</th>\n",
       "      <th>available</th>\n",
       "      <th>price</th>\n",
       "      <th>Unnamed: 4</th>\n",
       "    </tr>\n",
       "  </thead>\n",
       "  <tbody>\n",
       "    <tr>\n",
       "      <th>365</th>\n",
       "      <td>2949128</td>\n",
       "      <td>1/1/2015</td>\n",
       "      <td>f</td>\n",
       "      <td>NaN</td>\n",
       "      <td>NaN</td>\n",
       "    </tr>\n",
       "    <tr>\n",
       "      <th>366</th>\n",
       "      <td>2949128</td>\n",
       "      <td>1/2/2015</td>\n",
       "      <td>f</td>\n",
       "      <td>NaN</td>\n",
       "      <td>NaN</td>\n",
       "    </tr>\n",
       "    <tr>\n",
       "      <th>367</th>\n",
       "      <td>2949128</td>\n",
       "      <td>1/3/2015</td>\n",
       "      <td>f</td>\n",
       "      <td>NaN</td>\n",
       "      <td>NaN</td>\n",
       "    </tr>\n",
       "    <tr>\n",
       "      <th>368</th>\n",
       "      <td>2949128</td>\n",
       "      <td>1/4/2015</td>\n",
       "      <td>f</td>\n",
       "      <td>NaN</td>\n",
       "      <td>NaN</td>\n",
       "    </tr>\n",
       "    <tr>\n",
       "      <th>369</th>\n",
       "      <td>2949128</td>\n",
       "      <td>1/5/2015</td>\n",
       "      <td>f</td>\n",
       "      <td>NaN</td>\n",
       "      <td>NaN</td>\n",
       "    </tr>\n",
       "    <tr>\n",
       "      <th>442</th>\n",
       "      <td>2949128</td>\n",
       "      <td>3/19/2015</td>\n",
       "      <td>f</td>\n",
       "      <td>NaN</td>\n",
       "      <td>NaN</td>\n",
       "    </tr>\n",
       "    <tr>\n",
       "      <th>443</th>\n",
       "      <td>2949128</td>\n",
       "      <td>3/20/2015</td>\n",
       "      <td>f</td>\n",
       "      <td>NaN</td>\n",
       "      <td>NaN</td>\n",
       "    </tr>\n",
       "    <tr>\n",
       "      <th>444</th>\n",
       "      <td>2949128</td>\n",
       "      <td>3/21/2015</td>\n",
       "      <td>f</td>\n",
       "      <td>NaN</td>\n",
       "      <td>NaN</td>\n",
       "    </tr>\n",
       "    <tr>\n",
       "      <th>445</th>\n",
       "      <td>2949128</td>\n",
       "      <td>3/22/2015</td>\n",
       "      <td>f</td>\n",
       "      <td>NaN</td>\n",
       "      <td>NaN</td>\n",
       "    </tr>\n",
       "    <tr>\n",
       "      <th>446</th>\n",
       "      <td>2949128</td>\n",
       "      <td>3/23/2015</td>\n",
       "      <td>f</td>\n",
       "      <td>NaN</td>\n",
       "      <td>NaN</td>\n",
       "    </tr>\n",
       "    <tr>\n",
       "      <th>447</th>\n",
       "      <td>2949128</td>\n",
       "      <td>3/24/2015</td>\n",
       "      <td>f</td>\n",
       "      <td>NaN</td>\n",
       "      <td>NaN</td>\n",
       "    </tr>\n",
       "    <tr>\n",
       "      <th>448</th>\n",
       "      <td>2949128</td>\n",
       "      <td>3/25/2015</td>\n",
       "      <td>f</td>\n",
       "      <td>NaN</td>\n",
       "      <td>NaN</td>\n",
       "    </tr>\n",
       "    <tr>\n",
       "      <th>449</th>\n",
       "      <td>2949128</td>\n",
       "      <td>3/26/2015</td>\n",
       "      <td>f</td>\n",
       "      <td>NaN</td>\n",
       "      <td>NaN</td>\n",
       "    </tr>\n",
       "    <tr>\n",
       "      <th>1095</th>\n",
       "      <td>4325398</td>\n",
       "      <td>1/1/2015</td>\n",
       "      <td>f</td>\n",
       "      <td>NaN</td>\n",
       "      <td>NaN</td>\n",
       "    </tr>\n",
       "    <tr>\n",
       "      <th>1096</th>\n",
       "      <td>4325398</td>\n",
       "      <td>1/2/2015</td>\n",
       "      <td>f</td>\n",
       "      <td>NaN</td>\n",
       "      <td>NaN</td>\n",
       "    </tr>\n",
       "    <tr>\n",
       "      <th>1097</th>\n",
       "      <td>4325398</td>\n",
       "      <td>1/3/2015</td>\n",
       "      <td>f</td>\n",
       "      <td>NaN</td>\n",
       "      <td>NaN</td>\n",
       "    </tr>\n",
       "    <tr>\n",
       "      <th>1098</th>\n",
       "      <td>4325398</td>\n",
       "      <td>1/4/2015</td>\n",
       "      <td>f</td>\n",
       "      <td>NaN</td>\n",
       "      <td>NaN</td>\n",
       "    </tr>\n",
       "    <tr>\n",
       "      <th>1099</th>\n",
       "      <td>4325398</td>\n",
       "      <td>1/5/2015</td>\n",
       "      <td>f</td>\n",
       "      <td>NaN</td>\n",
       "      <td>NaN</td>\n",
       "    </tr>\n",
       "    <tr>\n",
       "      <th>1100</th>\n",
       "      <td>4325398</td>\n",
       "      <td>1/6/2015</td>\n",
       "      <td>f</td>\n",
       "      <td>NaN</td>\n",
       "      <td>NaN</td>\n",
       "    </tr>\n",
       "    <tr>\n",
       "      <th>1101</th>\n",
       "      <td>4325398</td>\n",
       "      <td>1/7/2015</td>\n",
       "      <td>f</td>\n",
       "      <td>NaN</td>\n",
       "      <td>NaN</td>\n",
       "    </tr>\n",
       "    <tr>\n",
       "      <th>1102</th>\n",
       "      <td>4325398</td>\n",
       "      <td>1/8/2015</td>\n",
       "      <td>f</td>\n",
       "      <td>NaN</td>\n",
       "      <td>NaN</td>\n",
       "    </tr>\n",
       "    <tr>\n",
       "      <th>1103</th>\n",
       "      <td>4325398</td>\n",
       "      <td>1/9/2015</td>\n",
       "      <td>f</td>\n",
       "      <td>NaN</td>\n",
       "      <td>NaN</td>\n",
       "    </tr>\n",
       "    <tr>\n",
       "      <th>1104</th>\n",
       "      <td>4325398</td>\n",
       "      <td>1/10/2015</td>\n",
       "      <td>f</td>\n",
       "      <td>NaN</td>\n",
       "      <td>NaN</td>\n",
       "    </tr>\n",
       "    <tr>\n",
       "      <th>1105</th>\n",
       "      <td>4325398</td>\n",
       "      <td>1/11/2015</td>\n",
       "      <td>f</td>\n",
       "      <td>NaN</td>\n",
       "      <td>NaN</td>\n",
       "    </tr>\n",
       "    <tr>\n",
       "      <th>1106</th>\n",
       "      <td>4325398</td>\n",
       "      <td>1/12/2015</td>\n",
       "      <td>f</td>\n",
       "      <td>NaN</td>\n",
       "      <td>NaN</td>\n",
       "    </tr>\n",
       "    <tr>\n",
       "      <th>1107</th>\n",
       "      <td>4325398</td>\n",
       "      <td>1/13/2015</td>\n",
       "      <td>f</td>\n",
       "      <td>NaN</td>\n",
       "      <td>NaN</td>\n",
       "    </tr>\n",
       "    <tr>\n",
       "      <th>1108</th>\n",
       "      <td>4325398</td>\n",
       "      <td>1/14/2015</td>\n",
       "      <td>f</td>\n",
       "      <td>NaN</td>\n",
       "      <td>NaN</td>\n",
       "    </tr>\n",
       "    <tr>\n",
       "      <th>1109</th>\n",
       "      <td>4325398</td>\n",
       "      <td>1/15/2015</td>\n",
       "      <td>f</td>\n",
       "      <td>NaN</td>\n",
       "      <td>NaN</td>\n",
       "    </tr>\n",
       "    <tr>\n",
       "      <th>1110</th>\n",
       "      <td>4325398</td>\n",
       "      <td>1/16/2015</td>\n",
       "      <td>f</td>\n",
       "      <td>NaN</td>\n",
       "      <td>NaN</td>\n",
       "    </tr>\n",
       "    <tr>\n",
       "      <th>1111</th>\n",
       "      <td>4325398</td>\n",
       "      <td>1/17/2015</td>\n",
       "      <td>f</td>\n",
       "      <td>NaN</td>\n",
       "      <td>NaN</td>\n",
       "    </tr>\n",
       "    <tr>\n",
       "      <th>...</th>\n",
       "      <td>...</td>\n",
       "      <td>...</td>\n",
       "      <td>...</td>\n",
       "      <td>...</td>\n",
       "      <td>...</td>\n",
       "    </tr>\n",
       "    <tr>\n",
       "      <th>1048545</th>\n",
       "      <td>4557019</td>\n",
       "      <td>9/24/2015</td>\n",
       "      <td>f</td>\n",
       "      <td>NaN</td>\n",
       "      <td>NaN</td>\n",
       "    </tr>\n",
       "    <tr>\n",
       "      <th>1048546</th>\n",
       "      <td>4557019</td>\n",
       "      <td>9/25/2015</td>\n",
       "      <td>f</td>\n",
       "      <td>NaN</td>\n",
       "      <td>NaN</td>\n",
       "    </tr>\n",
       "    <tr>\n",
       "      <th>1048547</th>\n",
       "      <td>4557019</td>\n",
       "      <td>9/26/2015</td>\n",
       "      <td>f</td>\n",
       "      <td>NaN</td>\n",
       "      <td>NaN</td>\n",
       "    </tr>\n",
       "    <tr>\n",
       "      <th>1048548</th>\n",
       "      <td>4557019</td>\n",
       "      <td>9/27/2015</td>\n",
       "      <td>f</td>\n",
       "      <td>NaN</td>\n",
       "      <td>NaN</td>\n",
       "    </tr>\n",
       "    <tr>\n",
       "      <th>1048549</th>\n",
       "      <td>4557019</td>\n",
       "      <td>9/28/2015</td>\n",
       "      <td>f</td>\n",
       "      <td>NaN</td>\n",
       "      <td>NaN</td>\n",
       "    </tr>\n",
       "    <tr>\n",
       "      <th>1048550</th>\n",
       "      <td>4557019</td>\n",
       "      <td>9/29/2015</td>\n",
       "      <td>f</td>\n",
       "      <td>NaN</td>\n",
       "      <td>NaN</td>\n",
       "    </tr>\n",
       "    <tr>\n",
       "      <th>1048551</th>\n",
       "      <td>4557019</td>\n",
       "      <td>9/30/2015</td>\n",
       "      <td>f</td>\n",
       "      <td>NaN</td>\n",
       "      <td>NaN</td>\n",
       "    </tr>\n",
       "    <tr>\n",
       "      <th>1048552</th>\n",
       "      <td>4557019</td>\n",
       "      <td>10/1/2015</td>\n",
       "      <td>f</td>\n",
       "      <td>NaN</td>\n",
       "      <td>NaN</td>\n",
       "    </tr>\n",
       "    <tr>\n",
       "      <th>1048553</th>\n",
       "      <td>4557019</td>\n",
       "      <td>10/2/2015</td>\n",
       "      <td>f</td>\n",
       "      <td>NaN</td>\n",
       "      <td>NaN</td>\n",
       "    </tr>\n",
       "    <tr>\n",
       "      <th>1048554</th>\n",
       "      <td>4557019</td>\n",
       "      <td>10/3/2015</td>\n",
       "      <td>f</td>\n",
       "      <td>NaN</td>\n",
       "      <td>NaN</td>\n",
       "    </tr>\n",
       "    <tr>\n",
       "      <th>1048555</th>\n",
       "      <td>4557019</td>\n",
       "      <td>10/4/2015</td>\n",
       "      <td>f</td>\n",
       "      <td>NaN</td>\n",
       "      <td>NaN</td>\n",
       "    </tr>\n",
       "    <tr>\n",
       "      <th>1048556</th>\n",
       "      <td>4557019</td>\n",
       "      <td>10/5/2015</td>\n",
       "      <td>f</td>\n",
       "      <td>NaN</td>\n",
       "      <td>NaN</td>\n",
       "    </tr>\n",
       "    <tr>\n",
       "      <th>1048557</th>\n",
       "      <td>4557019</td>\n",
       "      <td>10/6/2015</td>\n",
       "      <td>f</td>\n",
       "      <td>NaN</td>\n",
       "      <td>NaN</td>\n",
       "    </tr>\n",
       "    <tr>\n",
       "      <th>1048558</th>\n",
       "      <td>4557019</td>\n",
       "      <td>10/7/2015</td>\n",
       "      <td>f</td>\n",
       "      <td>NaN</td>\n",
       "      <td>NaN</td>\n",
       "    </tr>\n",
       "    <tr>\n",
       "      <th>1048559</th>\n",
       "      <td>4557019</td>\n",
       "      <td>10/8/2015</td>\n",
       "      <td>f</td>\n",
       "      <td>NaN</td>\n",
       "      <td>NaN</td>\n",
       "    </tr>\n",
       "    <tr>\n",
       "      <th>1048560</th>\n",
       "      <td>4557019</td>\n",
       "      <td>10/9/2015</td>\n",
       "      <td>f</td>\n",
       "      <td>NaN</td>\n",
       "      <td>NaN</td>\n",
       "    </tr>\n",
       "    <tr>\n",
       "      <th>1048561</th>\n",
       "      <td>4557019</td>\n",
       "      <td>10/10/2015</td>\n",
       "      <td>f</td>\n",
       "      <td>NaN</td>\n",
       "      <td>NaN</td>\n",
       "    </tr>\n",
       "    <tr>\n",
       "      <th>1048562</th>\n",
       "      <td>4557019</td>\n",
       "      <td>10/11/2015</td>\n",
       "      <td>f</td>\n",
       "      <td>NaN</td>\n",
       "      <td>NaN</td>\n",
       "    </tr>\n",
       "    <tr>\n",
       "      <th>1048563</th>\n",
       "      <td>4557019</td>\n",
       "      <td>10/12/2015</td>\n",
       "      <td>f</td>\n",
       "      <td>NaN</td>\n",
       "      <td>NaN</td>\n",
       "    </tr>\n",
       "    <tr>\n",
       "      <th>1048564</th>\n",
       "      <td>4557019</td>\n",
       "      <td>10/13/2015</td>\n",
       "      <td>f</td>\n",
       "      <td>NaN</td>\n",
       "      <td>NaN</td>\n",
       "    </tr>\n",
       "    <tr>\n",
       "      <th>1048565</th>\n",
       "      <td>4557019</td>\n",
       "      <td>10/14/2015</td>\n",
       "      <td>f</td>\n",
       "      <td>NaN</td>\n",
       "      <td>NaN</td>\n",
       "    </tr>\n",
       "    <tr>\n",
       "      <th>1048566</th>\n",
       "      <td>4557019</td>\n",
       "      <td>10/15/2015</td>\n",
       "      <td>f</td>\n",
       "      <td>NaN</td>\n",
       "      <td>NaN</td>\n",
       "    </tr>\n",
       "    <tr>\n",
       "      <th>1048567</th>\n",
       "      <td>4557019</td>\n",
       "      <td>10/16/2015</td>\n",
       "      <td>f</td>\n",
       "      <td>NaN</td>\n",
       "      <td>NaN</td>\n",
       "    </tr>\n",
       "    <tr>\n",
       "      <th>1048568</th>\n",
       "      <td>4557019</td>\n",
       "      <td>10/17/2015</td>\n",
       "      <td>f</td>\n",
       "      <td>NaN</td>\n",
       "      <td>NaN</td>\n",
       "    </tr>\n",
       "    <tr>\n",
       "      <th>1048569</th>\n",
       "      <td>4557019</td>\n",
       "      <td>10/18/2015</td>\n",
       "      <td>f</td>\n",
       "      <td>NaN</td>\n",
       "      <td>NaN</td>\n",
       "    </tr>\n",
       "    <tr>\n",
       "      <th>1048570</th>\n",
       "      <td>4557019</td>\n",
       "      <td>10/19/2015</td>\n",
       "      <td>f</td>\n",
       "      <td>NaN</td>\n",
       "      <td>NaN</td>\n",
       "    </tr>\n",
       "    <tr>\n",
       "      <th>1048571</th>\n",
       "      <td>4557019</td>\n",
       "      <td>10/20/2015</td>\n",
       "      <td>f</td>\n",
       "      <td>NaN</td>\n",
       "      <td>NaN</td>\n",
       "    </tr>\n",
       "    <tr>\n",
       "      <th>1048572</th>\n",
       "      <td>4557019</td>\n",
       "      <td>10/21/2015</td>\n",
       "      <td>f</td>\n",
       "      <td>NaN</td>\n",
       "      <td>NaN</td>\n",
       "    </tr>\n",
       "    <tr>\n",
       "      <th>1048573</th>\n",
       "      <td>4557019</td>\n",
       "      <td>10/22/2015</td>\n",
       "      <td>f</td>\n",
       "      <td>NaN</td>\n",
       "      <td>NaN</td>\n",
       "    </tr>\n",
       "    <tr>\n",
       "      <th>1048574</th>\n",
       "      <td>4557019</td>\n",
       "      <td>10/23/2015</td>\n",
       "      <td>f</td>\n",
       "      <td>NaN</td>\n",
       "      <td>NaN</td>\n",
       "    </tr>\n",
       "  </tbody>\n",
       "</table>\n",
       "<p>274923 rows × 5 columns</p>\n",
       "</div>"
      ],
      "text/plain": [
       "         listing_id        date available price  Unnamed: 4\n",
       "365         2949128    1/1/2015         f   NaN         NaN\n",
       "366         2949128    1/2/2015         f   NaN         NaN\n",
       "367         2949128    1/3/2015         f   NaN         NaN\n",
       "368         2949128    1/4/2015         f   NaN         NaN\n",
       "369         2949128    1/5/2015         f   NaN         NaN\n",
       "442         2949128   3/19/2015         f   NaN         NaN\n",
       "443         2949128   3/20/2015         f   NaN         NaN\n",
       "444         2949128   3/21/2015         f   NaN         NaN\n",
       "445         2949128   3/22/2015         f   NaN         NaN\n",
       "446         2949128   3/23/2015         f   NaN         NaN\n",
       "447         2949128   3/24/2015         f   NaN         NaN\n",
       "448         2949128   3/25/2015         f   NaN         NaN\n",
       "449         2949128   3/26/2015         f   NaN         NaN\n",
       "1095        4325398    1/1/2015         f   NaN         NaN\n",
       "1096        4325398    1/2/2015         f   NaN         NaN\n",
       "1097        4325398    1/3/2015         f   NaN         NaN\n",
       "1098        4325398    1/4/2015         f   NaN         NaN\n",
       "1099        4325398    1/5/2015         f   NaN         NaN\n",
       "1100        4325398    1/6/2015         f   NaN         NaN\n",
       "1101        4325398    1/7/2015         f   NaN         NaN\n",
       "1102        4325398    1/8/2015         f   NaN         NaN\n",
       "1103        4325398    1/9/2015         f   NaN         NaN\n",
       "1104        4325398   1/10/2015         f   NaN         NaN\n",
       "1105        4325398   1/11/2015         f   NaN         NaN\n",
       "1106        4325398   1/12/2015         f   NaN         NaN\n",
       "1107        4325398   1/13/2015         f   NaN         NaN\n",
       "1108        4325398   1/14/2015         f   NaN         NaN\n",
       "1109        4325398   1/15/2015         f   NaN         NaN\n",
       "1110        4325398   1/16/2015         f   NaN         NaN\n",
       "1111        4325398   1/17/2015         f   NaN         NaN\n",
       "...             ...         ...       ...   ...         ...\n",
       "1048545     4557019   9/24/2015         f   NaN         NaN\n",
       "1048546     4557019   9/25/2015         f   NaN         NaN\n",
       "1048547     4557019   9/26/2015         f   NaN         NaN\n",
       "1048548     4557019   9/27/2015         f   NaN         NaN\n",
       "1048549     4557019   9/28/2015         f   NaN         NaN\n",
       "1048550     4557019   9/29/2015         f   NaN         NaN\n",
       "1048551     4557019   9/30/2015         f   NaN         NaN\n",
       "1048552     4557019   10/1/2015         f   NaN         NaN\n",
       "1048553     4557019   10/2/2015         f   NaN         NaN\n",
       "1048554     4557019   10/3/2015         f   NaN         NaN\n",
       "1048555     4557019   10/4/2015         f   NaN         NaN\n",
       "1048556     4557019   10/5/2015         f   NaN         NaN\n",
       "1048557     4557019   10/6/2015         f   NaN         NaN\n",
       "1048558     4557019   10/7/2015         f   NaN         NaN\n",
       "1048559     4557019   10/8/2015         f   NaN         NaN\n",
       "1048560     4557019   10/9/2015         f   NaN         NaN\n",
       "1048561     4557019  10/10/2015         f   NaN         NaN\n",
       "1048562     4557019  10/11/2015         f   NaN         NaN\n",
       "1048563     4557019  10/12/2015         f   NaN         NaN\n",
       "1048564     4557019  10/13/2015         f   NaN         NaN\n",
       "1048565     4557019  10/14/2015         f   NaN         NaN\n",
       "1048566     4557019  10/15/2015         f   NaN         NaN\n",
       "1048567     4557019  10/16/2015         f   NaN         NaN\n",
       "1048568     4557019  10/17/2015         f   NaN         NaN\n",
       "1048569     4557019  10/18/2015         f   NaN         NaN\n",
       "1048570     4557019  10/19/2015         f   NaN         NaN\n",
       "1048571     4557019  10/20/2015         f   NaN         NaN\n",
       "1048572     4557019  10/21/2015         f   NaN         NaN\n",
       "1048573     4557019  10/22/2015         f   NaN         NaN\n",
       "1048574     4557019  10/23/2015         f   NaN         NaN\n",
       "\n",
       "[274923 rows x 5 columns]"
      ]
     },
     "execution_count": 37,
     "metadata": {},
     "output_type": "execute_result"
    }
   ],
   "source": [
    "season[season.price.isnull()]"
   ]
  },
  {
   "cell_type": "code",
   "execution_count": null,
   "metadata": {
    "collapsed": true
   },
   "outputs": [],
   "source": []
  }
 ],
 "metadata": {
  "anaconda-cloud": {},
  "kernelspec": {
   "display_name": "Python [Root]",
   "language": "python",
   "name": "Python [Root]"
  },
  "language_info": {
   "codemirror_mode": {
    "name": "ipython",
    "version": 2
   },
   "file_extension": ".py",
   "mimetype": "text/x-python",
   "name": "python",
   "nbconvert_exporter": "python",
   "pygments_lexer": "ipython2",
   "version": "2.7.12"
  }
 },
 "nbformat": 4,
 "nbformat_minor": 0
}
