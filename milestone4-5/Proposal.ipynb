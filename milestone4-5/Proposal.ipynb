{
 "cells": [
  {
   "cell_type": "markdown",
   "metadata": {},
   "source": [
    "# Milestone 5: Proposal\n",
    "<hr/>\n",
    "\n",
    "Proposed methodologies and ideas to be implemented, tested and interpreted broken down by section.\n",
    "\n",
    "### Data Cleaning\n",
    "\n",
    "In the cleaning process we selected 12 predictors and 1 target variable from the 52 columns available. We may consider filtering in some of the predictors that we had not selected previously such as `availability_30`. Perhaps we may have removed some predictors that would have lended significant predictive power if included in the model.\n",
    "\n",
    "### Data Exploration\n",
    "\n",
    "Based on the scatter matrix, when looking at everything together it doesn't seem like there is a distinguishable relationship between our predictors and pricing. We may have to cluster our data by features such as location or size to distinguish whether there is indeed a relationship or not.\n",
    "\n",
    "We see that our target variable is significantly skewed right. We will need to determine suitable methods to deal with this especially when running linear regression methods.\n",
    "\n",
    "### Data Modeling\n",
    "\n",
    "It seems that a Polynomial using Ridge Regression CV takes incredibly long. It does not seem that it will complete in a reasonable time frame. We will need to ascertain ways to handle this; for example adjusting or taking averages in our data, such that we can fit a Polynomial model.\n",
    "\n",
    "### Future Incorporations\n",
    "\n",
    "We see the baseline models currently perform poorly. We will need to consider ways to increase our accuracy. Somethings to consider would be to change this from a regression problem into a classification problem -- predicting the price range a price will fall in. We can then incorporate different models such as Multinomial Logistic Regression, LDA, QDA, etc.. However, we may choose to stick with regression currently by exploring improvements to be made below.\n",
    "\n",
    "Additional improvements will be:\n",
    "1. cluster listings based on similarities such as size (number of individuals a listing accommodates) or zipcode (location) to create a multi-level model to improve accuracy\n",
    "2. explore other regression methods namely ensemble methods such as GradientBoostingRegressor\n",
    "3. consider predicting a pricing range interval instead of a specific price (change to classification problem)\n",
    "4. extracting other features that may introduce predictive power\n",
    "5. instead of looking at RSS consider looking at the median absolute error"
   ]
  }
 ],
 "metadata": {
  "anaconda-cloud": {},
  "kernelspec": {
   "display_name": "Python [Root]",
   "language": "python",
   "name": "Python [Root]"
  },
  "language_info": {
   "codemirror_mode": {
    "name": "ipython",
    "version": 2
   },
   "file_extension": ".py",
   "mimetype": "text/x-python",
   "name": "python",
   "nbconvert_exporter": "python",
   "pygments_lexer": "ipython2",
   "version": "2.7.12"
  }
 },
 "nbformat": 4,
 "nbformat_minor": 0
}
