{
 "cells": [
  {
   "cell_type": "markdown",
   "metadata": {},
   "source": [
    "# Milestone 5: Proposal\n",
    "<hr/>\n",
    "\n",
    "Proposed methodologies and ideas to be implemented, tested and interpreted. \n",
    "\n",
    "### Data Cleaning\n",
    "\n",
    "\n",
    "### Thoughts\n",
    "\n",
    "- given the vast majority of single listings, maybe we'll want to focus on just single listings."
   ]
  }
 ],
 "metadata": {
  "anaconda-cloud": {},
  "kernelspec": {
   "display_name": "Python [Root]",
   "language": "python",
   "name": "Python [Root]"
  },
  "language_info": {
   "codemirror_mode": {
    "name": "ipython",
    "version": 2
   },
   "file_extension": ".py",
   "mimetype": "text/x-python",
   "name": "python",
   "nbconvert_exporter": "python",
   "pygments_lexer": "ipython2",
   "version": "2.7.12"
  }
 },
 "nbformat": 4,
 "nbformat_minor": 0
}
